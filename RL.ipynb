{
 "cells": [
  {
   "cell_type": "code",
   "execution_count": 3,
   "metadata": {},
   "outputs": [],
   "source": [
    "import gymnasium as gym\n",
    "from gymnasium.utils import play\n",
    "import matplotlib.pyplot as plt\n",
    "\n",
    "%matplotlib inline\n",
    "\n",
    "import tensorflow as tf\n",
    "import keras\n",
    "import numpy as np"
   ]
  },
  {
   "cell_type": "code",
   "execution_count": 4,
   "metadata": {},
   "outputs": [],
   "source": [
    "env = gym.make('ALE/Boxing-v5', render_mode = 'rgb_array',obs_type='grayscale')"
   ]
  },
  {
   "cell_type": "code",
   "execution_count": 8,
   "metadata": {},
   "outputs": [],
   "source": [
    "# Utility functions\n",
    "\n",
    "def preprocess(obs):\n",
    "    return obs[30:180, 30:130]\n"
   ]
  },
  {
   "cell_type": "code",
   "execution_count": 35,
   "metadata": {},
   "outputs": [],
   "source": [
    "# Mass generation of training data using tree search getting all possible rewards from a given state\n",
    "\n",
    "def generate_data(env, num_episodes, max_steps_per_episode, preprocess = lambda x: x):\n",
    "    for i in range(num_episodes):\n",
    "        print(f\"Episode {i+1}/{num_episodes}\")\n",
    "        obs = env.reset()\n",
    "        obs = preprocess(obs[0])\n",
    "        for j in range(max_steps_per_episode):\n",
    "            r_matrix = np.zeros(env.action_space.n)\n",
    "            for action in range(env.action_space.n):\n",
    "                env_copy = env.unwrapped.clone_state(include_rng = False)\n",
    "                step = env.step(action)\n",
    "                next_obs = step[0]\n",
    "                reward = step[1]\n",
    "                done = step[2]\n",
    "                next_obs = preprocess(next_obs)\n",
    "                r_matrix[action] = reward\n",
    "                env.unwrapped.restore_state(env_copy)\n",
    "\n",
    "            #Appends the data to the training set in a csv file\n",
    "            with open('training_data.csv', 'a') as f:\n",
    "                np.savetxt(f, np.append(obs.flatten(), r_matrix), delimiter = ',')\n",
    "            if done:\n",
    "                break\n",
    "            \n",
    "\n",
    "            if np.random.rand() < 0.5:\n",
    "                action = env.action_space.sample()\n",
    "            else:\n",
    "                action = np.argmax(r_matrix)\n",
    "\n",
    "            step = env.step(action)\n",
    "            obs = step[0]\n",
    "            reward = step[1]\n",
    "            done = step[2]\n",
    "            obs = preprocess(obs)\n",
    "\n",
    "            if done:\n",
    "                break\n"
   ]
  },
  {
   "cell_type": "code",
   "execution_count": 36,
   "metadata": {},
   "outputs": [
    {
     "name": "stdout",
     "output_type": "stream",
     "text": [
      "Episode 1/10\n"
     ]
    },
    {
     "ename": "KeyboardInterrupt",
     "evalue": "",
     "output_type": "error",
     "traceback": [
      "\u001b[1;31m---------------------------------------------------------------------------\u001b[0m",
      "\u001b[1;31mKeyboardInterrupt\u001b[0m                         Traceback (most recent call last)",
      "\u001b[1;32mc:\\Users\\leomo\\Desktop\\RL.ipynb Célula 5\u001b[0m line \u001b[0;36m1\n\u001b[1;32m----> <a href='vscode-notebook-cell:/c%3A/Users/leomo/Desktop/RL.ipynb#W5sZmlsZQ%3D%3D?line=0'>1</a>\u001b[0m generate_data(env, \u001b[39m10\u001b[39;49m, \u001b[39m1000\u001b[39;49m, preprocess)\n",
      "\u001b[1;32mc:\\Users\\leomo\\Desktop\\RL.ipynb Célula 5\u001b[0m line \u001b[0;36m1\n\u001b[0;32m     <a href='vscode-notebook-cell:/c%3A/Users/leomo/Desktop/RL.ipynb#W5sZmlsZQ%3D%3D?line=11'>12</a>\u001b[0m \u001b[39mfor\u001b[39;00m action \u001b[39min\u001b[39;00m \u001b[39mrange\u001b[39m(env\u001b[39m.\u001b[39maction_space\u001b[39m.\u001b[39mn):\n\u001b[0;32m     <a href='vscode-notebook-cell:/c%3A/Users/leomo/Desktop/RL.ipynb#W5sZmlsZQ%3D%3D?line=12'>13</a>\u001b[0m     env_copy \u001b[39m=\u001b[39m env\u001b[39m.\u001b[39munwrapped\u001b[39m.\u001b[39mclone_state(include_rng \u001b[39m=\u001b[39m \u001b[39mFalse\u001b[39;00m)\n\u001b[1;32m---> <a href='vscode-notebook-cell:/c%3A/Users/leomo/Desktop/RL.ipynb#W5sZmlsZQ%3D%3D?line=13'>14</a>\u001b[0m     step \u001b[39m=\u001b[39m env\u001b[39m.\u001b[39;49mstep(action)\n\u001b[0;32m     <a href='vscode-notebook-cell:/c%3A/Users/leomo/Desktop/RL.ipynb#W5sZmlsZQ%3D%3D?line=14'>15</a>\u001b[0m     next_obs \u001b[39m=\u001b[39m step[\u001b[39m0\u001b[39m]\n\u001b[0;32m     <a href='vscode-notebook-cell:/c%3A/Users/leomo/Desktop/RL.ipynb#W5sZmlsZQ%3D%3D?line=15'>16</a>\u001b[0m     reward \u001b[39m=\u001b[39m step[\u001b[39m1\u001b[39m]\n",
      "File \u001b[1;32mc:\\Users\\leomo\\AppData\\Local\\Programs\\Python\\Python311\\Lib\\site-packages\\gymnasium\\wrappers\\order_enforcing.py:56\u001b[0m, in \u001b[0;36mOrderEnforcing.step\u001b[1;34m(self, action)\u001b[0m\n\u001b[0;32m     54\u001b[0m \u001b[39mif\u001b[39;00m \u001b[39mnot\u001b[39;00m \u001b[39mself\u001b[39m\u001b[39m.\u001b[39m_has_reset:\n\u001b[0;32m     55\u001b[0m     \u001b[39mraise\u001b[39;00m ResetNeeded(\u001b[39m\"\u001b[39m\u001b[39mCannot call env.step() before calling env.reset()\u001b[39m\u001b[39m\"\u001b[39m)\n\u001b[1;32m---> 56\u001b[0m \u001b[39mreturn\u001b[39;00m \u001b[39mself\u001b[39;49m\u001b[39m.\u001b[39;49menv\u001b[39m.\u001b[39;49mstep(action)\n",
      "File \u001b[1;32mc:\\Users\\leomo\\AppData\\Local\\Programs\\Python\\Python311\\Lib\\site-packages\\gymnasium\\wrappers\\env_checker.py:51\u001b[0m, in \u001b[0;36mPassiveEnvChecker.step\u001b[1;34m(self, action)\u001b[0m\n\u001b[0;32m     49\u001b[0m     \u001b[39mreturn\u001b[39;00m env_step_passive_checker(\u001b[39mself\u001b[39m\u001b[39m.\u001b[39menv, action)\n\u001b[0;32m     50\u001b[0m \u001b[39melse\u001b[39;00m:\n\u001b[1;32m---> 51\u001b[0m     \u001b[39mreturn\u001b[39;00m \u001b[39mself\u001b[39;49m\u001b[39m.\u001b[39;49menv\u001b[39m.\u001b[39;49mstep(action)\n",
      "File \u001b[1;32mc:\\Users\\leomo\\AppData\\Local\\Programs\\Python\\Python311\\Lib\\site-packages\\shimmy\\atari_env.py:294\u001b[0m, in \u001b[0;36mAtariEnv.step\u001b[1;34m(self, action_ind)\u001b[0m\n\u001b[0;32m    292\u001b[0m reward \u001b[39m=\u001b[39m \u001b[39m0.0\u001b[39m\n\u001b[0;32m    293\u001b[0m \u001b[39mfor\u001b[39;00m _ \u001b[39min\u001b[39;00m \u001b[39mrange\u001b[39m(frameskip):\n\u001b[1;32m--> 294\u001b[0m     reward \u001b[39m+\u001b[39m\u001b[39m=\u001b[39m \u001b[39mself\u001b[39m\u001b[39m.\u001b[39male\u001b[39m.\u001b[39mact(action)\n\u001b[0;32m    295\u001b[0m is_terminal \u001b[39m=\u001b[39m \u001b[39mself\u001b[39m\u001b[39m.\u001b[39male\u001b[39m.\u001b[39mgame_over(with_truncation\u001b[39m=\u001b[39m\u001b[39mFalse\u001b[39;00m)\n\u001b[0;32m    296\u001b[0m is_truncated \u001b[39m=\u001b[39m \u001b[39mself\u001b[39m\u001b[39m.\u001b[39male\u001b[39m.\u001b[39mgame_truncated()\n",
      "\u001b[1;31mKeyboardInterrupt\u001b[0m: "
     ]
    }
   ],
   "source": [
    "generate_data(env, 10, 1000, preprocess)"
   ]
  }
 ],
 "metadata": {
  "kernelspec": {
   "display_name": "Python 3",
   "language": "python",
   "name": "python3"
  },
  "language_info": {
   "codemirror_mode": {
    "name": "ipython",
    "version": 3
   },
   "file_extension": ".py",
   "mimetype": "text/x-python",
   "name": "python",
   "nbconvert_exporter": "python",
   "pygments_lexer": "ipython3",
   "version": "3.11.0"
  }
 },
 "nbformat": 4,
 "nbformat_minor": 2
}
