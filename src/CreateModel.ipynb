{
 "cells": [
  {
   "cell_type": "code",
   "execution_count": 1,
   "metadata": {},
   "outputs": [],
   "source": [
    "import tensorflow as tf\n",
    "import keras\n",
    "import numpy as np"
   ]
  },
  {
   "cell_type": "code",
   "execution_count": null,
   "metadata": {},
   "outputs": [],
   "source": [
    "Model0 = keras.models.Sequential()\n",
    "Model0.add(keras.layers.Conv2D(32, (3, 3), activation='relu', input_shape=(150, 100, 5)))\n",
    "Model0.add(keras.layers.BatchNormalization())\n",
    "Model0.add(keras.layers.Conv2D(32, (3, 3), activation='relu'))\n",
    "Model0.add(keras.layers.Flatten())\n",
    "Model0.add(keras.layers.Dense(64, activation='relu'))\n",
    "Model0.add(keras.layers.Dense(18, activation='linear'))\n",
    "\n",
    "Model0.compile(optimizer=tf.keras.optimizers.Adam(learning_rate=1e-2), loss='mse')\n",
    "Model0.summary()"
   ]
  },
  {
   "cell_type": "code",
   "execution_count": null,
   "metadata": {},
   "outputs": [],
   "source": [
    "Model0.save('../models/Model0.keras')"
   ]
  },
  {
   "cell_type": "code",
   "execution_count": null,
   "metadata": {},
   "outputs": [],
   "source": [
    "Model1 = keras.models.Sequential()\n",
    "Model1.add(keras.layers.Conv2D(32, (3, 3), activation='relu', input_shape=(150, 100, 1)))\n",
    "Model1.add(keras.layers.BatchNormalization())\n",
    "Model1.add(keras.layers.Conv2D(32, (3, 3), activation='relu'))\n",
    "Model1.add(keras.layers.Flatten())\n",
    "Model1.add(keras.layers.Dense(64, activation='relu'))\n",
    "Model1.add(keras.layers.Dense(18, activation='linear'))\n",
    "\n",
    "Model1.compile(optimizer=tf.keras.optimizers.Adam(learning_rate=1e-2), loss='mse')\n",
    "Model1.summary()"
   ]
  },
  {
   "cell_type": "code",
   "execution_count": null,
   "metadata": {},
   "outputs": [],
   "source": [
    "Model1.save('../models/Model1.keras')"
   ]
  }
 ],
 "metadata": {
  "kernelspec": {
   "display_name": "Python 3",
   "language": "python",
   "name": "python3"
  },
  "language_info": {
   "codemirror_mode": {
    "name": "ipython",
    "version": 3
   },
   "file_extension": ".py",
   "mimetype": "text/x-python",
   "name": "python",
   "nbconvert_exporter": "python",
   "pygments_lexer": "ipython3",
   "version": "3.11.0"
  }
 },
 "nbformat": 4,
 "nbformat_minor": 2
}
