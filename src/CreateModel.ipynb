{
 "cells": [
  {
   "cell_type": "code",
   "execution_count": 1,
   "metadata": {},
   "outputs": [],
   "source": [
    "import tensorflow as tf\n",
    "import keras\n",
    "import numpy as np"
   ]
  },
  {
   "cell_type": "code",
   "execution_count": 2,
   "metadata": {},
   "outputs": [
    {
     "name": "stdout",
     "output_type": "stream",
     "text": [
      "Model: \"sequential\"\n",
      "_________________________________________________________________\n",
      " Layer (type)                Output Shape              Param #   \n",
      "=================================================================\n",
      " conv2d (Conv2D)             (None, 148, 98, 32)       1472      \n",
      "                                                                 \n",
      " batch_normalization (Batch  (None, 148, 98, 32)       128       \n",
      " Normalization)                                                  \n",
      "                                                                 \n",
      " conv2d_1 (Conv2D)           (None, 146, 96, 32)       9248      \n",
      "                                                                 \n",
      " flatten (Flatten)           (None, 448512)            0         \n",
      "                                                                 \n",
      " dense (Dense)               (None, 64)                28704832  \n",
      "                                                                 \n",
      " dense_1 (Dense)             (None, 18)                1170      \n",
      "                                                                 \n",
      "=================================================================\n",
      "Total params: 28716850 (109.55 MB)\n",
      "Trainable params: 28716786 (109.55 MB)\n",
      "Non-trainable params: 64 (256.00 Byte)\n",
      "_________________________________________________________________\n"
     ]
    }
   ],
   "source": [
    "Model0 = keras.models.Sequential()\n",
    "Model0.add(keras.layers.Conv2D(32, (3, 3), activation='relu', input_shape=(150, 100, 5)))\n",
    "Model0.add(keras.layers.BatchNormalization())\n",
    "Model0.add(keras.layers.Conv2D(32, (3, 3), activation='relu'))\n",
    "Model0.add(keras.layers.Flatten())\n",
    "Model0.add(keras.layers.Dense(64, activation='relu'))\n",
    "Model0.add(keras.layers.Dense(18, activation='linear'))\n",
    "\n",
    "Model0.compile(optimizer=tf.keras.optimizers.Adam(learning_rate=1e-2), loss='mse')\n",
    "Model0.summary()"
   ]
  },
  {
   "cell_type": "code",
   "execution_count": 3,
   "metadata": {},
   "outputs": [
    {
     "name": "stderr",
     "output_type": "stream",
     "text": [
      "c:\\Users\\leomo\\AppData\\Local\\Programs\\Python\\Python311\\Lib\\site-packages\\keras\\src\\engine\\training.py:3000: UserWarning: You are saving your model as an HDF5 file via `model.save()`. This file format is considered legacy. We recommend using instead the native Keras format, e.g. `model.save('my_model.keras')`.\n",
      "  saving_api.save_model(\n"
     ]
    }
   ],
   "source": [
    "Model0.save('../models/model_cnn_stack.h5')"
   ]
  },
  {
   "cell_type": "code",
   "execution_count": 4,
   "metadata": {},
   "outputs": [
    {
     "name": "stdout",
     "output_type": "stream",
     "text": [
      "Model: \"sequential_1\"\n",
      "_________________________________________________________________\n",
      " Layer (type)                Output Shape              Param #   \n",
      "=================================================================\n",
      " conv2d_2 (Conv2D)           (None, 148, 98, 32)       320       \n",
      "                                                                 \n",
      " batch_normalization_1 (Bat  (None, 148, 98, 32)       128       \n",
      " chNormalization)                                                \n",
      "                                                                 \n",
      " conv2d_3 (Conv2D)           (None, 146, 96, 32)       9248      \n",
      "                                                                 \n",
      " flatten_1 (Flatten)         (None, 448512)            0         \n",
      "                                                                 \n",
      " dense_2 (Dense)             (None, 64)                28704832  \n",
      "                                                                 \n",
      " dense_3 (Dense)             (None, 18)                1170      \n",
      "                                                                 \n",
      "=================================================================\n",
      "Total params: 28715698 (109.54 MB)\n",
      "Trainable params: 28715634 (109.54 MB)\n",
      "Non-trainable params: 64 (256.00 Byte)\n",
      "_________________________________________________________________\n"
     ]
    }
   ],
   "source": [
    "Model1 = keras.models.Sequential()\n",
    "Model1.add(keras.layers.Conv2D(32, (3, 3), activation='relu', input_shape=(150, 100, 1)))\n",
    "Model1.add(keras.layers.BatchNormalization())\n",
    "Model1.add(keras.layers.Conv2D(32, (3, 3), activation='relu'))\n",
    "Model1.add(keras.layers.Flatten())\n",
    "Model1.add(keras.layers.Dense(64, activation='relu'))\n",
    "Model1.add(keras.layers.Dense(18, activation='linear'))\n",
    "\n",
    "Model1.compile(optimizer=tf.keras.optimizers.Adam(learning_rate=1e-2), loss='mse')\n",
    "Model1.summary()"
   ]
  },
  {
   "cell_type": "code",
   "execution_count": 5,
   "metadata": {},
   "outputs": [],
   "source": [
    "Model1.save('../models/model_cnn_single.h5')"
   ]
  }
 ],
 "metadata": {
  "kernelspec": {
   "display_name": "Python 3",
   "language": "python",
   "name": "python3"
  },
  "language_info": {
   "codemirror_mode": {
    "name": "ipython",
    "version": 3
   },
   "file_extension": ".py",
   "mimetype": "text/x-python",
   "name": "python",
   "nbconvert_exporter": "python",
   "pygments_lexer": "ipython3",
   "version": "3.11.0"
  }
 },
 "nbformat": 4,
 "nbformat_minor": 2
}
