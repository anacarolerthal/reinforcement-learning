{
 "cells": [
  {
   "cell_type": "code",
   "execution_count": null,
   "metadata": {},
   "outputs": [],
   "source": [
    "from pandas import read_csv\n",
    "from numpy import append, zeros, stack\n",
    "from keras.models import load_model\n",
    "\n",
    "data = read_csv('/content/drive/MyDrive/Rede RL/training_data.csv')\n",
    "data = data.to_numpy()\n",
    "data = append(data, data[-1])\n",
    "data = data.reshape((int(data.shape[0]/15018), 15018))"
   ]
  },
  {
   "cell_type": "code",
   "execution_count": null,
   "metadata": {},
   "outputs": [],
   "source": [
    "labels = data[:, -18:]\n",
    "images = data[:, :-18]\n",
    "\n",
    "del data\n",
    "#reshape images to 150, 100 and stack them\n",
    "images = images.reshape((images.shape[0], 150, 100))\n",
    "images.shape"
   ]
  },
  {
   "cell_type": "code",
   "execution_count": null,
   "metadata": {},
   "outputs": [],
   "source": [
    "#model = load_model('/content/drive/MyDrive/Rede RL/model.h5') colabline\n",
    "model = load_model('../models/Model0.h5')"
   ]
  },
  {
   "cell_type": "code",
   "execution_count": null,
   "metadata": {},
   "outputs": [],
   "source": [
    "from numpy.random import randint\n",
    "def generator(bs):\n",
    "    while True:\n",
    "        image = zeros((bs, 150, 100, 5))\n",
    "        label = zeros((bs, 18))\n",
    "        for b in range(bs):\n",
    "            rng = randint(0, images.shape[0] - 4)\n",
    "            image[b] = stack((images[rng], images[rng+1], images[rng+2], images[rng+3], images[rng+4]), axis=2)\n",
    "            label[b] = labels[rng]\n",
    "        yield image, label"
   ]
  },
  {
   "cell_type": "code",
   "execution_count": null,
   "metadata": {},
   "outputs": [],
   "source": [
    "batch_size = 64\n",
    "e = [10,100,500]\n",
    "for i in range(3):\n",
    "  epochs = e[i]\n",
    "  model.fit(x = generator(batch_size), epochs=epochs, steps_per_epoch=200)\n",
    "  model.save('/content/drive/MyDrive/Rede RL/model' + str(epochs) + '.h5')\n"
   ]
  }
 ],
 "metadata": {
  "language_info": {
   "name": "python"
  }
 },
 "nbformat": 4,
 "nbformat_minor": 2
}
