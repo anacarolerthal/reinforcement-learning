{
 "cells": [
  {
   "cell_type": "code",
   "execution_count": 2,
   "metadata": {},
   "outputs": [],
   "source": [
    "import gymnasium as gym\n",
    "import numpy as np\n",
    "import tensorflow as tf"
   ]
  },
  {
   "cell_type": "code",
   "execution_count": 3,
   "metadata": {},
   "outputs": [],
   "source": [
    "env = gym.make('ALE/Boxing-v5', render_mode = 'rgb_array', obs_type = 'grayscale')"
   ]
  },
  {
   "cell_type": "code",
   "execution_count": 4,
   "metadata": {},
   "outputs": [],
   "source": [
    "def crop_image(image):\n",
    "    return image[30:180, 30:130]"
   ]
  },
  {
   "cell_type": "code",
   "execution_count": 5,
   "metadata": {},
   "outputs": [],
   "source": [
    "def gen_labels(env):\n",
    "    labels = np.zeros(18)\n",
    "    for k in range(18):\n",
    "        old_state = env.unwrapped.clone_state(include_rng=False)\n",
    "        labels[k] = env.step(k)[1]\n",
    "        env.unwrapped.restore_state(old_state)\n",
    "    return tf.stack(labels.reshape((1, 18)))"
   ]
  },
  {
   "cell_type": "code",
   "execution_count": 6,
   "metadata": {},
   "outputs": [],
   "source": [
    "def gen_set(num_iter, skip_stride = 5):\n",
    "    for i in range(num_iter):\n",
    "        env.reset()\n",
    "        for j in range(1000):\n",
    "            step = env.step(env.action_space.sample())\n",
    "            done = step[2]\n",
    "            if done:\n",
    "                break\n",
    "            image = step[0]\n",
    "            image = crop_image(image)\n",
    "            label = gen_labels(env)\n",
    "            with open('../data/train_data.txt', 'ab') as f:\n",
    "                np.savetxt(f, image, fmt='%d', delimiter=',')\n",
    "                np.savetxt(f, label, fmt='%d', delimiter=',')\n",
    "        with open('../data/train_data.txt', 'ab') as f:\n",
    "            f.write(b'END_BATCH')\n"
   ]
  },
  {
   "cell_type": "code",
   "execution_count": 7,
   "metadata": {},
   "outputs": [],
   "source": [
    "gen_set(1000)"
   ]
  }
 ],
 "metadata": {
  "kernelspec": {
   "display_name": "Python 3",
   "language": "python",
   "name": "python3"
  },
  "language_info": {
   "codemirror_mode": {
    "name": "ipython",
    "version": 3
   },
   "file_extension": ".py",
   "mimetype": "text/x-python",
   "name": "python",
   "nbconvert_exporter": "python",
   "pygments_lexer": "ipython3",
   "version": "3.11.0"
  }
 },
 "nbformat": 4,
 "nbformat_minor": 2
}
